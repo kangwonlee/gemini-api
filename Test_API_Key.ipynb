{
  "nbformat": 4,
  "nbformat_minor": 0,
  "metadata": {
    "colab": {
      "private_outputs": true,
      "provenance": [],
      "authorship_tag": "ABX9TyP66tMlYkOM/lm/1JhztUTL",
      "include_colab_link": true
    },
    "kernelspec": {
      "name": "python3",
      "display_name": "Python 3"
    },
    "language_info": {
      "name": "python"
    }
  },
  "cells": [
    {
      "cell_type": "markdown",
      "metadata": {
        "id": "view-in-github",
        "colab_type": "text"
      },
      "source": [
        "<a href=\"https://colab.research.google.com/github/kangwonlee/gemini-api/blob/main/Test_API_Key.ipynb\" target=\"_parent\"><img src=\"https://colab.research.google.com/assets/colab-badge.svg\" alt=\"Open In Colab\"/></a>"
      ]
    },
    {
      "cell_type": "markdown",
      "source": [
        "Test Google Gemini API key"
      ],
      "metadata": {
        "id": "-JibuiHGmi3o"
      }
    },
    {
      "cell_type": "code",
      "execution_count": null,
      "metadata": {
        "id": "5myr0Z2fmgsV"
      },
      "outputs": [],
      "source": [
        "import getpass\n",
        "import pprint\n",
        "import textwrap\n",
        "\n",
        "import IPython.display as Id\n",
        "import requests\n",
        "\n",
        "import google.colab.userdata as gcu\n",
        "\n"
      ]
    },
    {
      "cell_type": "code",
      "source": [
        "def to_markdown(text):\n",
        "  text = text.replace('•', '  *')\n",
        "  return Id.Markdown(textwrap.indent(text, '> ', predicate=lambda _: True))\n",
        "\n"
      ],
      "metadata": {
        "id": "IynBcdGyfDAy"
      },
      "execution_count": null,
      "outputs": []
    },
    {
      "cell_type": "code",
      "source": [
        "try:\n",
        "  YOUR_API_KEY = gcu.get('GOOGLE_API_KEY')\n",
        "except BaseException as e:\n",
        "  print(e)\n",
        "  YOUR_API_KEY = getpass.getpass('Your API Key:')\n",
        "\n"
      ],
      "metadata": {
        "id": "apRBO3mXmoJe"
      },
      "execution_count": null,
      "outputs": []
    },
    {
      "cell_type": "code",
      "source": [
        "url = f'https://generativelanguage.googleapis.com/v1beta/models/gemini-1.5-flash-latest:generateContent?key={YOUR_API_KEY}'\n",
        "headers = {'Content-Type': 'application/json'}\n",
        "data = {'contents': [{'parts': [{'text': 'Explain how AI works'}]}]}\n"
      ],
      "metadata": {
        "id": "sd7Snga7nqpn"
      },
      "execution_count": null,
      "outputs": []
    },
    {
      "cell_type": "code",
      "source": [
        "response = requests.post(url, headers=headers, json=data)\n",
        "\n",
        "if response.status_code == 200:\n",
        "    result = response.json()\n",
        "    # will show result later\n",
        "else:\n",
        "    print(f\"Error: {response.status_code}, {response.text}\")\n",
        "\n"
      ],
      "metadata": {
        "id": "W_ZKWYx-ngcu"
      },
      "execution_count": null,
      "outputs": []
    },
    {
      "cell_type": "code",
      "source": [
        "for part in result['candidates'][0]['content']['parts']:\n",
        "  print('-' * 40)\n",
        "  Id.display(to_markdown(part['text']))\n",
        "\n"
      ],
      "metadata": {
        "id": "u9n2dEXgfy0l"
      },
      "execution_count": null,
      "outputs": []
    },
    {
      "cell_type": "code",
      "source": [],
      "metadata": {
        "id": "EOE80dkOgXP9"
      },
      "execution_count": null,
      "outputs": []
    }
  ]
}
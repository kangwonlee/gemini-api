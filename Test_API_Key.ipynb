{
  "nbformat": 4,
  "nbformat_minor": 0,
  "metadata": {
    "colab": {
      "private_outputs": true,
      "provenance": [],
      "authorship_tag": "ABX9TyOE1NS1/ZGLNgqLYLw5QlSm",
      "include_colab_link": true
    },
    "kernelspec": {
      "name": "python3",
      "display_name": "Python 3"
    },
    "language_info": {
      "name": "python"
    }
  },
  "cells": [
    {
      "cell_type": "markdown",
      "metadata": {
        "id": "view-in-github",
        "colab_type": "text"
      },
      "source": [
        "<a href=\"https://colab.research.google.com/github/kangwonlee/google-ai-docs-gemini-api-python/blob/main/Test_API_Key.ipynb\" target=\"_parent\"><img src=\"https://colab.research.google.com/assets/colab-badge.svg\" alt=\"Open In Colab\"/></a>"
      ]
    },
    {
      "cell_type": "markdown",
      "source": [
        "Test Google Gemini API key"
      ],
      "metadata": {
        "id": "-JibuiHGmi3o"
      }
    },
    {
      "cell_type": "code",
      "execution_count": null,
      "metadata": {
        "id": "5myr0Z2fmgsV"
      },
      "outputs": [],
      "source": [
        "import getpass\n",
        "\n",
        "import requests\n",
        "\n"
      ]
    },
    {
      "cell_type": "code",
      "source": [
        "API_KEY = getpass.getpass('API Key:')\n",
        "\n"
      ],
      "metadata": {
        "id": "apRBO3mXmoJe"
      },
      "execution_count": null,
      "outputs": []
    }
  ]
}